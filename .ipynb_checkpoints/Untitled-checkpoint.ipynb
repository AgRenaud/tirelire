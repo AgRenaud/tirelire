{
 "cells": [
  {
   "cell_type": "code",
   "execution_count": null,
   "id": "0b339e81-cd80-41cf-825e-0a4ecb124717",
   "metadata": {},
   "outputs": [],
   "source": [
    "# Test Message Bus"
   ]
  },
  {
   "cell_type": "code",
   "execution_count": 4,
   "id": "5acbcf36-15a8-4714-92fc-6ac453d3285c",
   "metadata": {},
   "outputs": [
    {
     "name": "stderr",
     "output_type": "stream",
     "text": [
      "expected str, bytes or os.PathLike object, not NoneType\n"
     ]
    },
    {
     "ename": "TypeError",
     "evalue": "expected str, bytes or os.PathLike object, not NoneType",
     "output_type": "error",
     "traceback": [
      "\u001b[0;31m---------------------------------------------------------------------------\u001b[0m",
      "\u001b[0;31mTypeError\u001b[0m                                 Traceback (most recent call last)",
      "Input \u001b[0;32mIn [4]\u001b[0m, in \u001b[0;36m<module>\u001b[0;34m\u001b[0m\n\u001b[1;32m      2\u001b[0m \u001b[38;5;28;01mfrom\u001b[39;00m \u001b[38;5;21;01mtyping\u001b[39;00m \u001b[38;5;28;01mimport\u001b[39;00m Callable, Dict, List, Union, Type, TYPE_CHECKING\n\u001b[1;32m      3\u001b[0m \u001b[38;5;28;01mfrom\u001b[39;00m \u001b[38;5;21;01mapp\u001b[39;00m\u001b[38;5;21;01m.\u001b[39;00m\u001b[38;5;21;01mdomain\u001b[39;00m \u001b[38;5;28;01mimport\u001b[39;00m commands, events\n\u001b[0;32m----> 5\u001b[0m \u001b[38;5;28;01mfrom\u001b[39;00m \u001b[38;5;21;01mapp\u001b[39;00m\u001b[38;5;21;01m.\u001b[39;00m\u001b[38;5;21;01mservice\u001b[39;00m \u001b[38;5;28;01mimport\u001b[39;00m unit_of_work\n\u001b[1;32m      8\u001b[0m logger \u001b[38;5;241m=\u001b[39m logging\u001b[38;5;241m.\u001b[39mgetLogger(\u001b[38;5;18m__name__\u001b[39m)\n\u001b[1;32m     10\u001b[0m Message \u001b[38;5;241m=\u001b[39m Union[commands\u001b[38;5;241m.\u001b[39mCommand, events\u001b[38;5;241m.\u001b[39mEvent]\n",
      "File \u001b[0;32m~/github/bank-operation-categorization/app/service/unit_of_work.py:39\u001b[0m, in \u001b[0;36m<module>\u001b[0;34m\u001b[0m\n\u001b[1;32m     32\u001b[0m     \u001b[38;5;129m@abc\u001b[39m\u001b[38;5;241m.\u001b[39mabstractmethod\n\u001b[1;32m     33\u001b[0m     \u001b[38;5;28;01mdef\u001b[39;00m \u001b[38;5;21mrollback\u001b[39m(\u001b[38;5;28mself\u001b[39m):\n\u001b[1;32m     34\u001b[0m         \u001b[38;5;28;01mraise\u001b[39;00m \u001b[38;5;167;01mNotImplementedError\u001b[39;00m\n\u001b[1;32m     37\u001b[0m DEFAULT_SESSION_FACTORY \u001b[38;5;241m=\u001b[39m sessionmaker(\n\u001b[1;32m     38\u001b[0m     bind\u001b[38;5;241m=\u001b[39mcreate_engine(\n\u001b[0;32m---> 39\u001b[0m         \u001b[43mconfig\u001b[49m\u001b[38;5;241;43m.\u001b[39;49m\u001b[43mget_postgres_uri\u001b[49m\u001b[43m(\u001b[49m\u001b[43m)\u001b[49m,\n\u001b[1;32m     40\u001b[0m         isolation_level\u001b[38;5;241m=\u001b[39m\u001b[38;5;124m\"\u001b[39m\u001b[38;5;124mREPEATABLE READ\u001b[39m\u001b[38;5;124m\"\u001b[39m,\n\u001b[1;32m     41\u001b[0m     ), expire_on_commit\u001b[38;5;241m=\u001b[39m\u001b[38;5;28;01mFalse\u001b[39;00m, \n\u001b[1;32m     42\u001b[0m )\n\u001b[1;32m     45\u001b[0m \u001b[38;5;28;01mclass\u001b[39;00m \u001b[38;5;21;01mSQLAlchemyUnitOfWorkImplem\u001b[39;00m(AbstractUnitOfWork):\n\u001b[1;32m     46\u001b[0m     \u001b[38;5;28;01mdef\u001b[39;00m \u001b[38;5;21m__init__\u001b[39m(\u001b[38;5;28mself\u001b[39m, session_factory\u001b[38;5;241m=\u001b[39mDEFAULT_SESSION_FACTORY):\n",
      "File \u001b[0;32m~/github/bank-operation-categorization/app/config.py:23\u001b[0m, in \u001b[0;36mget_postgres_uri\u001b[0;34m()\u001b[0m\n\u001b[1;32m     22\u001b[0m \u001b[38;5;28;01mdef\u001b[39;00m \u001b[38;5;21mget_postgres_uri\u001b[39m():\n\u001b[0;32m---> 23\u001b[0m     configuration \u001b[38;5;241m=\u001b[39m \u001b[43mget_config\u001b[49m\u001b[43m(\u001b[49m\u001b[43m)\u001b[49m\n\u001b[1;32m     25\u001b[0m     user \u001b[38;5;241m=\u001b[39m configuration[\u001b[38;5;124m'\u001b[39m\u001b[38;5;124mpostgres\u001b[39m\u001b[38;5;124m'\u001b[39m][\u001b[38;5;124m'\u001b[39m\u001b[38;5;124muser\u001b[39m\u001b[38;5;124m'\u001b[39m]\n\u001b[1;32m     26\u001b[0m     password \u001b[38;5;241m=\u001b[39m configuration[\u001b[38;5;124m'\u001b[39m\u001b[38;5;124mpostgres\u001b[39m\u001b[38;5;124m'\u001b[39m][\u001b[38;5;124m'\u001b[39m\u001b[38;5;124mpassword\u001b[39m\u001b[38;5;124m'\u001b[39m]\n",
      "File \u001b[0;32m~/github/bank-operation-categorization/app/config.py:19\u001b[0m, in \u001b[0;36mget_config\u001b[0;34m()\u001b[0m\n\u001b[1;32m     17\u001b[0m \u001b[38;5;28;01mexcept\u001b[39;00m \u001b[38;5;167;01mException\u001b[39;00m \u001b[38;5;28;01mas\u001b[39;00m exc:\n\u001b[1;32m     18\u001b[0m     logger\u001b[38;5;241m.\u001b[39merror(exc)\n\u001b[0;32m---> 19\u001b[0m     \u001b[38;5;28;01mraise\u001b[39;00m exc\n",
      "File \u001b[0;32m~/github/bank-operation-categorization/app/config.py:15\u001b[0m, in \u001b[0;36mget_config\u001b[0;34m()\u001b[0m\n\u001b[1;32m     13\u001b[0m \u001b[38;5;28;01mdef\u001b[39;00m \u001b[38;5;21mget_config\u001b[39m():\n\u001b[1;32m     14\u001b[0m     \u001b[38;5;28;01mtry\u001b[39;00m:\n\u001b[0;32m---> 15\u001b[0m         configuration \u001b[38;5;241m=\u001b[39m \u001b[43mEnvYAML\u001b[49m\u001b[43m(\u001b[49m\u001b[43mCONFIG_PATH\u001b[49m\u001b[43m)\u001b[49m\n\u001b[1;32m     16\u001b[0m         \u001b[38;5;28;01mreturn\u001b[39;00m configuration\n\u001b[1;32m     17\u001b[0m     \u001b[38;5;28;01mexcept\u001b[39;00m \u001b[38;5;167;01mException\u001b[39;00m \u001b[38;5;28;01mas\u001b[39;00m exc:\n",
      "File \u001b[0;32m~/github/bank-operation-categorization/.venv/lib/python3.8/site-packages/envyaml/envyaml.py:117\u001b[0m, in \u001b[0;36mEnvYAML.__init__\u001b[0;34m(self, yaml_file, env_file, include_environment, strict, flatten, **kwargs)\u001b[0m\n\u001b[1;32m    114\u001b[0m \u001b[38;5;28mself\u001b[39m\u001b[38;5;241m.\u001b[39m__cfg\u001b[38;5;241m.\u001b[39mupdate(kwargs)\n\u001b[1;32m    116\u001b[0m \u001b[38;5;66;03m# read yaml file and parse it\u001b[39;00m\n\u001b[0;32m--> 117\u001b[0m yaml_config \u001b[38;5;241m=\u001b[39m \u001b[38;5;28;43mself\u001b[39;49m\u001b[38;5;241;43m.\u001b[39;49m\u001b[43m__read_yaml_file\u001b[49m\u001b[43m(\u001b[49m\n\u001b[1;32m    118\u001b[0m \u001b[43m    \u001b[49m\u001b[38;5;28;43mself\u001b[39;49m\u001b[38;5;241;43m.\u001b[39;49m\u001b[43m__get_file_path\u001b[49m\u001b[43m(\u001b[49m\n\u001b[1;32m    119\u001b[0m \u001b[43m        \u001b[49m\u001b[43myaml_file\u001b[49m\u001b[43m,\u001b[49m\u001b[43m \u001b[49m\u001b[38;5;124;43m\"\u001b[39;49m\u001b[38;5;124;43mENV_YAML_FILE\u001b[39;49m\u001b[38;5;124;43m\"\u001b[39;49m\u001b[43m,\u001b[49m\u001b[43m \u001b[49m\u001b[38;5;28;43mself\u001b[39;49m\u001b[38;5;241;43m.\u001b[39;49m\u001b[43mDEFAULT_ENV_YAML_FILE\u001b[49m\n\u001b[1;32m    120\u001b[0m \u001b[43m    \u001b[49m\u001b[43m)\u001b[49m\u001b[43m,\u001b[49m\n\u001b[1;32m    121\u001b[0m \u001b[43m    \u001b[49m\u001b[38;5;28;43mself\u001b[39;49m\u001b[38;5;241;43m.\u001b[39;49m\u001b[43m__cfg\u001b[49m\u001b[43m,\u001b[49m\n\u001b[1;32m    122\u001b[0m \u001b[43m    \u001b[49m\u001b[38;5;28;43mself\u001b[39;49m\u001b[38;5;241;43m.\u001b[39;49m\u001b[43m__strict\u001b[49m\u001b[43m,\u001b[49m\n\u001b[1;32m    123\u001b[0m \u001b[43m\u001b[49m\u001b[43m)\u001b[49m\n\u001b[1;32m    125\u001b[0m \u001b[38;5;66;03m# update config\u001b[39;00m\n\u001b[1;32m    126\u001b[0m \u001b[38;5;28;01mif\u001b[39;00m \u001b[38;5;28misinstance\u001b[39m(yaml_config, \u001b[38;5;28mlist\u001b[39m):\n",
      "File \u001b[0;32m~/github/bank-operation-categorization/.venv/lib/python3.8/site-packages/envyaml/envyaml.py:208\u001b[0m, in \u001b[0;36mEnvYAML.__read_yaml_file\u001b[0;34m(file_path, cfg, strict, separator)\u001b[0m\n\u001b[1;32m    199\u001b[0m \u001b[38;5;124;03m\"\"\"read and parse yaml file\u001b[39;00m\n\u001b[1;32m    200\u001b[0m \n\u001b[1;32m    201\u001b[0m \u001b[38;5;124;03m:param str file_path: path to file\u001b[39;00m\n\u001b[0;32m   (...)\u001b[0m\n\u001b[1;32m    204\u001b[0m \u001b[38;5;124;03m:return: dict\u001b[39;00m\n\u001b[1;32m    205\u001b[0m \u001b[38;5;124;03m\"\"\"\u001b[39;00m\n\u001b[1;32m    207\u001b[0m \u001b[38;5;66;03m# read and parse files\u001b[39;00m\n\u001b[0;32m--> 208\u001b[0m \u001b[38;5;28;01mwith\u001b[39;00m \u001b[43mio\u001b[49m\u001b[38;5;241;43m.\u001b[39;49m\u001b[43mopen\u001b[49m\u001b[43m(\u001b[49m\u001b[43mfile_path\u001b[49m\u001b[43m,\u001b[49m\u001b[43m \u001b[49m\u001b[43mencoding\u001b[49m\u001b[38;5;241;43m=\u001b[39;49m\u001b[38;5;124;43m\"\u001b[39;49m\u001b[38;5;124;43mutf8\u001b[39;49m\u001b[38;5;124;43m\"\u001b[39;49m\u001b[43m)\u001b[49m \u001b[38;5;28;01mas\u001b[39;00m f:\n\u001b[1;32m    209\u001b[0m     content \u001b[38;5;241m=\u001b[39m f\u001b[38;5;241m.\u001b[39mread()  \u001b[38;5;66;03m# type:str\u001b[39;00m\n\u001b[1;32m    211\u001b[0m \u001b[38;5;66;03m# remove all comments\u001b[39;00m\n",
      "\u001b[0;31mTypeError\u001b[0m: expected str, bytes or os.PathLike object, not NoneType"
     ]
    }
   ],
   "source": [
    "import logging\n",
    "from typing import Callable, Dict, List, Union, Type, TYPE_CHECKING\n",
    "from app.domain import commands, events\n",
    "\n",
    "from app.service import unit_of_work\n",
    "\n",
    "\n",
    "logger = logging.getLogger(__name__)\n",
    "\n",
    "Message = Union[commands.Command, events.Event]\n",
    "\n",
    "\n",
    "class MessageBus:\n",
    "    def __init__(\n",
    "        self,\n",
    "        uow: unit_of_work.AbstractUnitOfWork,\n",
    "        event_handlers: Dict[Type[events.Event], List[Callable]],\n",
    "        command_handlers: Dict[Type[commands.Command], Callable],\n",
    "    ):\n",
    "        self.uow = uow\n",
    "        self.event_handlers = event_handlers\n",
    "        self.command_handlers = command_handlers\n",
    "\n",
    "    def handle(self, messages: List[Message]):\n",
    "        self.queue = messages\n",
    "        while self.queue:\n",
    "            message = self.queue.pop(0)\n",
    "            if isinstance(message, events.Event):\n",
    "                self.handle_event(message)\n",
    "            elif isinstance(message, commands.Command):\n",
    "                self.handle_command(message)\n",
    "            else:\n",
    "                raise Exception(f\"{message} was not an Event or Command\")\n",
    "\n",
    "    def handle_event(self, event: events.Event):\n",
    "        for handler in self.event_handlers[type(event)]:\n",
    "            try:\n",
    "                logger.debug(\"handling event %s with handler %s\", event, handler)\n",
    "                handler(event)\n",
    "                self.queue.extend(self.uow.collect_new_events())\n",
    "            except Exception:\n",
    "                logger.exception(\"Exception handling event %s\", event)\n",
    "                continue\n",
    "\n",
    "    def handle_command(self, command: commands.Command):\n",
    "        logger.debug(\"handling command %s\", command)\n",
    "        try:\n",
    "            handler = self.command_handlers[type(command)]\n",
    "            handler(command)\n",
    "            self.queue.extend(self.uow.collect_new_events())\n",
    "        except Exception:\n",
    "            logger.exception(\"Exception handling command %s\", command)\n",
    "            raise"
   ]
  },
  {
   "cell_type": "code",
   "execution_count": null,
   "id": "a8cd631a-1d2f-4450-90d2-f78c5ceea699",
   "metadata": {},
   "outputs": [],
   "source": []
  }
 ],
 "metadata": {
  "kernelspec": {
   "display_name": "bank-operation-kernel",
   "language": "python",
   "name": "bank-operation-kernel"
  },
  "language_info": {
   "codemirror_mode": {
    "name": "ipython",
    "version": 3
   },
   "file_extension": ".py",
   "mimetype": "text/x-python",
   "name": "python",
   "nbconvert_exporter": "python",
   "pygments_lexer": "ipython3",
   "version": "3.8.10"
  }
 },
 "nbformat": 4,
 "nbformat_minor": 5
}
