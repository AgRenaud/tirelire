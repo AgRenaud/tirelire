{
 "cells": [
  {
   "cell_type": "code",
   "execution_count": 1,
   "id": "4b8066a8-e5ad-4922-bffc-cc6f452adfef",
   "metadata": {},
   "outputs": [],
   "source": [
    "import redis\n",
    "\n",
    "redis_client = redis.Redis(host='localhost', port=6379, password='MyRedisPassword', decode_responses=True)"
   ]
  },
  {
   "cell_type": "markdown",
   "id": "32a07b05-a961-49a7-97b8-a809e2072b01",
   "metadata": {},
   "source": [
    "# Set a single value"
   ]
  },
  {
   "cell_type": "code",
   "execution_count": 2,
   "id": "5bcd0261-7b76-4780-bab5-f8303144739a",
   "metadata": {},
   "outputs": [
    {
     "data": {
      "text/plain": [
       "True"
      ]
     },
     "execution_count": 2,
     "metadata": {},
     "output_type": "execute_result"
    }
   ],
   "source": [
    "redis_client.set('my_key', 'thevalueofmykey')"
   ]
  },
  {
   "cell_type": "code",
   "execution_count": 3,
   "id": "11d201d9-8209-4d93-adf5-75fdf6e1cdd3",
   "metadata": {},
   "outputs": [
    {
     "data": {
      "text/plain": [
       "'thevalueofmykey'"
      ]
     },
     "execution_count": 3,
     "metadata": {},
     "output_type": "execute_result"
    }
   ],
   "source": [
    "redis_client.get('my_key')"
   ]
  },
  {
   "cell_type": "markdown",
   "id": "94a22bf1-ab18-44d8-847a-a6485e6447fc",
   "metadata": {},
   "source": [
    "# Post a stream and retrieve it"
   ]
  },
  {
   "cell_type": "code",
   "execution_count": 4,
   "id": "a3a05cb2-76f2-44a9-a08d-4dcf470816c8",
   "metadata": {},
   "outputs": [
    {
     "name": "stdout",
     "output_type": "stream",
     "text": [
      "Help on method xadd in module redis.commands.core:\n",
      "\n",
      "xadd(name, fields, id='*', maxlen=None, approximate=True, nomkstream=False, minid=None, limit=None) method of redis.client.Redis instance\n",
      "    Add to a stream.\n",
      "    name: name of the stream\n",
      "    fields: dict of field/value pairs to insert into the stream\n",
      "    id: Location to insert this record. By default it is appended.\n",
      "    maxlen: truncate old stream members beyond this size.\n",
      "    Can't be specified with minid.\n",
      "    approximate: actual stream length may be slightly more than maxlen\n",
      "    nomkstream: When set to true, do not make a stream\n",
      "    minid: the minimum id in the stream to query.\n",
      "    Can't be specified with maxlen.\n",
      "    limit: specifies the maximum number of entries to retrieve\n",
      "    \n",
      "    For more information check https://redis.io/commands/xadd\n",
      "\n"
     ]
    }
   ],
   "source": [
    "help(redis_client.xadd)"
   ]
  },
  {
   "cell_type": "code",
   "execution_count": 5,
   "id": "c6ef0ed6-b725-429b-9633-3ad8b76cae10",
   "metadata": {},
   "outputs": [
    {
     "name": "stdout",
     "output_type": "stream",
     "text": [
      "Help on method xrange in module redis.commands.core:\n",
      "\n",
      "xrange(name, min='-', max='+', count=None) method of redis.client.Redis instance\n",
      "    Read stream values within an interval.\n",
      "    name: name of the stream.\n",
      "    start: first stream ID. defaults to '-',\n",
      "           meaning the earliest available.\n",
      "    finish: last stream ID. defaults to '+',\n",
      "            meaning the latest available.\n",
      "    count: if set, only return this many items, beginning with the\n",
      "           earliest available.\n",
      "    \n",
      "    For more information check https://redis.io/commands/xrange\n",
      "\n"
     ]
    }
   ],
   "source": [
    "help(redis_client.xrange)"
   ]
  },
  {
   "cell_type": "markdown",
   "id": "275bd36b-ad58-4d86-8fbf-c70a041e3853",
   "metadata": {},
   "source": [
    "In our example we want to send a list of event. Our Aggregate will read the list of event and process it."
   ]
  },
  {
   "cell_type": "code",
   "execution_count": 6,
   "id": "8550ca3e-8f81-4cc4-aa43-ebdeab1f9a37",
   "metadata": {},
   "outputs": [],
   "source": [
    "import uuid\n",
    "\n",
    "from dataclasses import dataclass, asdict\n",
    "\n",
    "\n",
    "class Event:\n",
    "    pass\n",
    "\n",
    "\n",
    "@dataclass\n",
    "class PrintMessage(Event):\n",
    "    id: str\n",
    "    msg: str"
   ]
  },
  {
   "cell_type": "code",
   "execution_count": 7,
   "id": "41a90a39-006a-4a05-91a0-7b26c7653d48",
   "metadata": {},
   "outputs": [],
   "source": [
    "list_of_event_1 = [\n",
    "    PrintMessage(str(uuid.uuid4()), \"AAA\"), \n",
    "    PrintMessage(str(uuid.uuid4()), \"BBB\"),\n",
    "    PrintMessage(str(uuid.uuid4()), \"CCC\")\n",
    "]\n",
    "\n",
    "for event in list_of_event_1:\n",
    "    redis_client.xadd(\"batch_1\", asdict(event))"
   ]
  },
  {
   "cell_type": "code",
   "execution_count": 8,
   "id": "d3912661-47ae-4b21-ba19-74437514110e",
   "metadata": {},
   "outputs": [],
   "source": [
    "list_of_event_2 = [\n",
    "    PrintMessage(str(uuid.uuid4()), \"111\"), \n",
    "    PrintMessage(str(uuid.uuid4()), \"222\"),\n",
    "    PrintMessage(str(uuid.uuid4()), \"333\")\n",
    "]\n",
    "\n",
    "for event in list_of_event_2:\n",
    "    redis_client.xadd(\"batch_2\", asdict(event))"
   ]
  },
  {
   "cell_type": "code",
   "execution_count": 9,
   "id": "6b7249ce-5d01-407d-8869-a869ecebdf89",
   "metadata": {},
   "outputs": [
    {
     "name": "stdout",
     "output_type": "stream",
     "text": [
      "('1643750817733-0', {'id': '6d51ce28-b37e-4710-a966-f2e0c14ceb67', 'msg': 'AAA'})\n",
      "('1643750817735-0', {'id': '72639493-006a-44d5-afe9-ed650a7638ac', 'msg': 'BBB'})\n",
      "('1643750817737-0', {'id': '8da043fd-4e3c-4a4e-b498-4f84c721c028', 'msg': 'CCC'})\n",
      "('1643751576654-0', {'id': '51ca59a1-380e-4752-a534-6940712e97f9', 'msg': 'AAA'})\n",
      "('1643751576656-0', {'id': '17970c77-4638-4e95-9a78-5fdf0f57a7a8', 'msg': 'BBB'})\n",
      "('1643751576660-0', {'id': 'a10fb75b-0367-4df3-b27f-0fac9c57a528', 'msg': 'CCC'})\n"
     ]
    }
   ],
   "source": [
    "for event in redis_client.xrange(\"batch_1\"):\n",
    "    print(event)"
   ]
  },
  {
   "cell_type": "code",
   "execution_count": 12,
   "id": "a1d8a555-a8bc-48d3-a159-ca30fbf9efd2",
   "metadata": {},
   "outputs": [
    {
     "name": "stdout",
     "output_type": "stream",
     "text": [
      "('1643750817746-0', {'id': 'fb14bce2-01bc-4079-9888-f642324eab4d', 'msg': '111'})\n",
      "('1643750817748-0', {'id': '4d07e016-1caa-4de0-ab31-d06623950a47', 'msg': '222'})\n",
      "('1643750817750-0', {'id': '01cdbc9e-2026-4254-8112-dfda7adf350d', 'msg': '333'})\n",
      "('1643751579331-0', {'id': '07589292-86b2-42c1-bf13-f390f55f1b23', 'msg': '111'})\n",
      "('1643751579333-0', {'id': 'ff5bbc7c-f624-430a-8f53-c78a164bf802', 'msg': '222'})\n",
      "('1643751579335-0', {'id': '96ee95c8-822e-4558-9957-3249beb764e9', 'msg': '333'})\n"
     ]
    },
    {
     "data": {
      "text/plain": [
       "6"
      ]
     },
     "execution_count": 12,
     "metadata": {},
     "output_type": "execute_result"
    }
   ],
   "source": [
    "ids = []\n",
    "for event in redis_client.xrange(\"batch_2\"):\n",
    "    print(event)\n",
    "    ids.append(event[0])\n",
    "redis_client.xdel(\"batch_2\", *ids)"
   ]
  },
  {
   "cell_type": "code",
   "execution_count": 13,
   "id": "514cfee3-3671-4cc5-9764-2dab35a46f6a",
   "metadata": {},
   "outputs": [
    {
     "data": {
      "text/plain": [
       "[]"
      ]
     },
     "execution_count": 13,
     "metadata": {},
     "output_type": "execute_result"
    }
   ],
   "source": [
    "redis_client.xrange(\"batch_2\")"
   ]
  },
  {
   "cell_type": "code",
   "execution_count": 11,
   "id": "2e34ef71-7576-480f-9c3e-00e1a5cba261",
   "metadata": {},
   "outputs": [
    {
     "name": "stdout",
     "output_type": "stream",
     "text": [
      "Help on method xdel in module redis.commands.core:\n",
      "\n",
      "xdel(name, *ids) method of redis.client.Redis instance\n",
      "    Deletes one or more messages from a stream.\n",
      "    name: name of the stream.\n",
      "    *ids: message ids to delete.\n",
      "    \n",
      "    For more information check https://redis.io/commands/xdel\n",
      "\n"
     ]
    }
   ],
   "source": [
    "help()"
   ]
  },
  {
   "cell_type": "code",
   "execution_count": null,
   "id": "3ac313ab-b046-4ecd-9bbf-66e387d6842a",
   "metadata": {},
   "outputs": [],
   "source": []
  }
 ],
 "metadata": {
  "kernelspec": {
   "display_name": "bank-operation-kernel",
   "language": "python",
   "name": "bank-operation-kernel"
  },
  "language_info": {
   "codemirror_mode": {
    "name": "ipython",
    "version": 3
   },
   "file_extension": ".py",
   "mimetype": "text/x-python",
   "name": "python",
   "nbconvert_exporter": "python",
   "pygments_lexer": "ipython3",
   "version": "3.8.10"
  }
 },
 "nbformat": 4,
 "nbformat_minor": 5
}
